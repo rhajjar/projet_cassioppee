{
 "cells": [
  {
   "cell_type": "code",
   "execution_count": 2,
   "metadata": {
    "colab": {
     "base_uri": "https://localhost:8080/"
    },
    "executionInfo": {
     "elapsed": 6291,
     "status": "ok",
     "timestamp": 1619523522426,
     "user": {
      "displayName": "robert hajjar",
      "photoUrl": "https://lh3.googleusercontent.com/a-/AOh14Gh5Lo7Q7-gbItDUeg7gdV4O48-ZmRnPUYGmlr93=s64",
      "userId": "10595416611791809722"
     },
     "user_tz": -120
    },
    "id": "ptslNKiu4dBA",
    "outputId": "9326db4e-d4d3-49bf-d162-580363794c14"
   },
   "outputs": [
    {
     "name": "stdout",
     "output_type": "stream",
     "text": [
      "2.5.0\n",
      "2.5.0\n"
     ]
    }
   ],
   "source": [
    "#%tensorflow_version 1.x\n",
    "\n",
    "import keras\n",
    "import tensorflow as tf\n",
    "print(tf.__version__)\n",
    "print(keras.__version__)"
   ]
  },
  {
   "cell_type": "code",
   "execution_count": 3,
   "metadata": {
    "executionInfo": {
     "elapsed": 2058,
     "status": "ok",
     "timestamp": 1619523527465,
     "user": {
      "displayName": "robert hajjar",
      "photoUrl": "https://lh3.googleusercontent.com/a-/AOh14Gh5Lo7Q7-gbItDUeg7gdV4O48-ZmRnPUYGmlr93=s64",
      "userId": "10595416611791809722"
     },
     "user_tz": -120
    },
    "id": "PRe5YV3P4Wqo"
   },
   "outputs": [],
   "source": [
    "import numpy as np\n",
    "import cv2\n",
    "import keras\n",
    "from keras import optimizers\n",
    "from keras.models import *\n",
    "from keras.layers import Input, merge, Conv2D, concatenate, Add,Layer\n",
    "from keras.optimizers import *\n",
    "from math import pi as pi\n",
    "from scipy import signal\n",
    "from keras import backend as K\n",
    "from math import pi as pi\n",
    "import matplotlib.pyplot as plt\n",
    "\n",
    "\n",
    "def activation_square(x):\n",
    "    return tf.math.square(x)\n",
    "\n",
    "\n",
    "def spiral_kxky(filename, ledNum):\n",
    "    kxky = [[], []]\n",
    "    with open(filename, 'r') as file:\n",
    "        for line in file:\n",
    "            for j, value in enumerate(line.split(\",\")):\n",
    "                kxky[j].append(np.float(value))\n",
    "    kxky = np.asarray(kxky)\n",
    "    kxky = kxky.T\n",
    "    return kxky[:ledNum, :]\n",
    "\n",
    "\n",
    "def show_result(model, show=0, noShow=10):\n",
    "    w_conv1 = model.get_layer('conv_O').get_weights()\n",
    "    w_conv1_array = np.asarray(w_conv1)\n",
    "    c_real = w_conv1_array[:, :, :, 0, :].reshape((imSize, imSize))\n",
    "    c_imag = w_conv1_array[:, :, :, 1, :].reshape((imSize, imSize))\n",
    "    \n",
    "    c_complex = c_real + 1j * c_imag  \n",
    "    c_abs = np.flip(np.flip(np.abs(c_complex), 0), 1)\n",
    "    c_phase = np.flip(np.flip(np.angle(c_complex), 0), 1)\n",
    "    c_complexFTLog = np.log(np.abs(np.fft.fftshift(np.fft.fft2(np.fft.ifftshift(c_complex)))))\n",
    "    objFTLog = np.log(np.abs(np.fft.fftshift(np.fft.fft2(np.fft.ifftshift(obj)))))\n",
    "    \n",
    "    if show:\n",
    "        plt.figure()\n",
    "        plt.subplot(231),plt.imshow(c_abs[noShow:imSize-noShow, noShow:imSize-noShow], cmap='gray'),plt.title('recover (abs)')\n",
    "        plt.subplot(232),plt.imshow(c_phase[noShow:imSize-noShow, noShow:imSize-noShow], cmap='gray'),plt.title('recover (phase)')\n",
    "        plt.subplot(233),plt.imshow(c_complexFTLog[noShow:imSize-noShow, noShow:imSize-noShow], cmap='gray'),plt.title('recover FT')\n",
    "        plt.subplot(234),plt.imshow(np.abs(obj[noShow:imSize-noShow, noShow:imSize-noShow]), cmap='gray'),plt.title('high res (abs)')\n",
    "        plt.subplot(235),plt.imshow(np.angle(obj[noShow:imSize-noShow, noShow:imSize-noShow]), cmap='gray'),plt.title('high res (phase)')\n",
    "        plt.subplot(236),plt.imshow(objFTLog[noShow:imSize-noShow, noShow:imSize-noShow], cmap='gray'),plt.title('high res FT')\n",
    "        plt.show()\n",
    "        \n",
    "    return c_complex"
   ]
  },
  {
   "cell_type": "code",
   "execution_count": 4,
   "metadata": {
    "executionInfo": {
     "elapsed": 1156,
     "status": "ok",
     "timestamp": 1619523533214,
     "user": {
      "displayName": "robert hajjar",
      "photoUrl": "https://lh3.googleusercontent.com/a-/AOh14Gh5Lo7Q7-gbItDUeg7gdV4O48-ZmRnPUYGmlr93=s64",
      "userId": "10595416611791809722"
     },
     "user_tz": -120
    },
    "id": "eIgrF-v24Wqs"
   },
   "outputs": [],
   "source": [
    "#Set parameters of FPM\n",
    "\n",
    "#path_square\n",
    "path =\"/content/drive/My Drive/Stage/bas_reso.mat\"\n",
    "\n",
    "#how much the resolution will be increased\n",
    "index_downSample = 4 \n",
    "# wavefront length\n",
    "wlength = 0.532*1e-6\n",
    "# numerical aperture\n",
    "NA = 0.1\n",
    "k0 = 2 * pi / wlength\n",
    "#magnification of len\n",
    "magnif = 2\n",
    "#pixel size\n",
    "spsize = (3.45*1e-6)/magnif\n",
    "psize = spsize/index_downSample\n",
    "#image size in low resolution\n",
    "crop = 100\n",
    "imSize = crop*index_downSample\n",
    "imCenter = int(imSize / 2)\n",
    "# root of the leds matrix size\n",
    "arraysize = 15\n",
    "NAstep = 0.05\n",
    "Format = \"Square\"\n",
    "\n",
    "#path_spiral\n",
    "#path = \"/content/drive/My Drive/Stage/bas_reso_spiral.mat\"\n",
    "\n",
    "# index_downSample = 4 # downsample: index_downSample=4\n",
    "# wlength = 0.465*1e-6\n",
    "# NA = 0.75\n",
    "# k0 = 2 * pi / wlength\n",
    "# magnif = 22.2222\n",
    "# spsize = (3.45*1e-6)/magnif\n",
    "# psize = spsize/index_downSample\n",
    "# crop = 100\n",
    "# imSize = crop*index_downSample\n",
    "# imCenter = int(imSize / 2)\n",
    "# arraysize = 5\n",
    "# NAstep = 0.05\n",
    "# dz = 21\n",
    "# Format = \"Spiral\""
   ]
  },
  {
   "cell_type": "code",
   "execution_count": 5,
   "metadata": {
    "colab": {
     "base_uri": "https://localhost:8080/"
    },
    "executionInfo": {
     "elapsed": 4843,
     "status": "ok",
     "timestamp": 1619523542268,
     "user": {
      "displayName": "robert hajjar",
      "photoUrl": "https://lh3.googleusercontent.com/a-/AOh14Gh5Lo7Q7-gbItDUeg7gdV4O48-ZmRnPUYGmlr93=s64",
      "userId": "10595416611791809722"
     },
     "user_tz": -120
    },
    "id": "HHn_aF88XwBV",
    "outputId": "0e98d418-8149-466b-d6ea-9b5dd6dd917b"
   },
   "outputs": [
    {
     "name": "stdout",
     "output_type": "stream",
     "text": [
      "Collecting LightPipes\n",
      "\u001b[?25l  Downloading https://files.pythonhosted.org/packages/7f/fa/e798671b11a4aa771545c86d38bac501b480cddc954fd00a51af8d8acbea/LightPipes-2.0.8-py3-none-any.whl (49kB)\n",
      "\r",
      "\u001b[K     |██████▋                         | 10kB 16.5MB/s eta 0:00:01\r",
      "\u001b[K     |█████████████▏                  | 20kB 21.0MB/s eta 0:00:01\r",
      "\u001b[K     |███████████████████▉            | 30kB 15.3MB/s eta 0:00:01\r",
      "\u001b[K     |██████████████████████████▍     | 40kB 14.4MB/s eta 0:00:01\r",
      "\u001b[K     |████████████████████████████████| 51kB 4.6MB/s \n",
      "\u001b[?25hRequirement already satisfied: numpy in /usr/local/lib/python3.7/dist-packages (from LightPipes) (1.19.5)\n",
      "Requirement already satisfied: scipy in /usr/local/lib/python3.7/dist-packages (from LightPipes) (1.4.1)\n",
      "Installing collected packages: LightPipes\n",
      "Successfully installed LightPipes-2.0.8\n"
     ]
    }
   ],
   "source": [
    "!pip install LightPipes"
   ]
  },
  {
   "cell_type": "code",
   "execution_count": 6,
   "metadata": {
    "colab": {
     "base_uri": "https://localhost:8080/",
     "height": 996
    },
    "executionInfo": {
     "elapsed": 5089,
     "status": "ok",
     "timestamp": 1619523549831,
     "user": {
      "displayName": "robert hajjar",
      "photoUrl": "https://lh3.googleusercontent.com/a-/AOh14Gh5Lo7Q7-gbItDUeg7gdV4O48-ZmRnPUYGmlr93=s64",
      "userId": "10595416611791809722"
     },
     "user_tz": -120
    },
    "id": "s4JMzuJpQoNY",
    "outputId": "13456576-f0a5-4ffc-85c7-650660795948"
   },
   "outputs": [
    {
     "name": "stdout",
     "output_type": "stream",
     "text": [
      "Requirement already satisfied: LightPipes in /usr/local/lib/python3.7/dist-packages (2.0.8)\n",
      "Requirement already satisfied: numpy in /usr/local/lib/python3.7/dist-packages (from LightPipes) (1.19.5)\n",
      "Requirement already satisfied: scipy in /usr/local/lib/python3.7/dist-packages (from LightPipes) (1.4.1)\n"
     ]
    },
    {
     "name": "stderr",
     "output_type": "stream",
     "text": [
      "/usr/local/lib/python3.7/dist-packages/LightPipes/propagators.py:27: UserWarning: \n",
      "**************************** WARNING ***********************\n",
      "LightPipes: Cannot import pyFFTW, falling back to numpy.fft.\n",
      "(Try to) install pyFFTW on your computer for faster performance.\n",
      "Enter at a terminal prompt: python -m pip install pyfftw.\n",
      "Or reinstall LightPipes with the option pyfftw\n",
      "Enter: python -m pip install lightpipes[pyfftw]\n",
      "\n",
      "You can suppress warnings by using the -Wignore option:\n",
      "Enter: python _Wignore *****.py\n",
      "*************************************************************\n",
      "  warnings.warn(_WARNING)\n"
     ]
    },
    {
     "name": "stdout",
     "output_type": "stream",
     "text": [
      "0\n",
      "0\n",
      "1\n",
      "1\n",
      "1\n",
      "-1\n",
      "2\n",
      "0\n",
      "2\n",
      "-2\n",
      "2\n",
      "2\n",
      "3\n",
      "-1\n",
      "3\n",
      "1\n",
      "3\n",
      "-3\n"
     ]
    },
    {
     "data": {
      "image/png": "[encoded data removed]",
      "text/plain": [
       "<Figure size 1080x576 with 9 Axes>"
      ]
     },
     "metadata": {
      "needs_background": "light",
      "tags": []
     },
     "output_type": "display_data"
    },
    {
     "name": "stdout",
     "output_type": "stream",
     "text": [
      "[[0. 0. 0. ... 0. 0. 0.]\n",
      " [0. 0. 0. ... 0. 0. 0.]\n",
      " [0. 0. 0. ... 0. 0. 0.]\n",
      " ...\n",
      " [0. 0. 0. ... 0. 0. 0.]\n",
      " [0. 0. 0. ... 0. 0. 0.]\n",
      " [0. 0. 0. ... 0. 0. 0.]]\n"
     ]
    }
   ],
   "source": [
    "!pip install LightPipes\n",
    "\n",
    "from LightPipes import *\n",
    "import matplotlib.pyplot as plt\n",
    "import math\n",
    "\n",
    "wavelength=532*nm\n",
    "dkxy = 2*math.pi/psize/(imSize-1)\n",
    "cutoffFrequency = (NA * k0 / dkxy)\n",
    "\n",
    "size=cutoffFrequency\n",
    "N=imSize\n",
    "A=wavelength/(2*math.pi)\n",
    "\n",
    "plt.figure(figsize=(15,8)) \n",
    "for Noll in range (1,10):\n",
    "    (nz,mz)=noll_to_zern(Noll)\n",
    "    print(nz)\n",
    "    print(mz)\n",
    "    S=ZernikeName(Noll)\n",
    "    F=Begin(N,psize,N)\n",
    "    F=Zernike(nz,mz,size,A,F)\n",
    "    F=CircAperture(size,0,0,F)\n",
    "    Phi=Phase(F)\n",
    "    plt.subplot(3,7,Noll)\n",
    "    plt.imshow(Phi, cmap='gray')\n",
    "    s=repr(Noll) + '  ' + ' $Z^{'+repr(mz)+'}_{'+repr(nz)+'}$' + '\\n' + S\n",
    "    plt.title(s, fontsize=9);plt.axis('off')\n",
    "plt.show()\n",
    "\n",
    "print(Phi)"
   ]
  },
  {
   "cell_type": "code",
   "execution_count": null,
   "metadata": {
    "colab": {
     "base_uri": "https://localhost:8080/",
     "height": 438
    },
    "executionInfo": {
     "elapsed": 4018,
     "status": "ok",
     "timestamp": 1593494368559,
     "user": {
      "displayName": "Juliana Damurie",
      "photoUrl": "https://lh3.googleusercontent.com/a-/AOh14GgqS_I3KDkG3WDikD_zCxgeGUtbI1H_57nr9adjDg=s64",
      "userId": "01065861705759591887"
     },
     "user_tz": -120
    },
    "id": "QKUAssFs4Wqv",
    "outputId": "9c46d081-6ab0-4890-c1a7-ba68b694bd86"
   },
   "outputs": [
    {
     "data": {
      "image/png": "[encoded data removed]",
      "text/plain": [
       "<Figure size 432x288 with 3 Axes>"
      ]
     },
     "metadata": {
      "needs_background": "light",
      "tags": []
     },
     "output_type": "display_data"
    },
    {
     "name": "stdout",
     "output_type": "stream",
     "text": [
      "-3.12740897938063\n",
      "3.127408979380629\n"
     ]
    },
    {
     "data": {
      "image/png": "[encoded data removed]",
      "text/plain": [
       "<Figure size 432x288 with 2 Axes>"
      ]
     },
     "metadata": {
      "needs_background": "light",
      "tags": []
     },
     "output_type": "display_data"
    }
   ],
   "source": [
    "# Load image\n",
    "imgAmp = cv2.imread('/content/drive/My Drive/Stage/Code_zheng/FPM_Simulation_exitWaveNet/Cameraman.bmp', 0)\n",
    "imgAmp = imgAmp +10\n",
    "imgAmp = cv2.resize(imgAmp, (imSize, imSize), interpolation=cv2.INTER_CUBIC).astype(float) # input amplitude\n",
    "imgPhase = cv2.imread('/content/drive/My Drive/Stage/Code_zheng/FPM_Simulation_exitWaveNet/westconcordorthophoto.bmp', 0)\n",
    "imgPhase = cv2.resize(imgPhase, (imSize, imSize), interpolation=cv2.INTER_CUBIC).astype(float) # input phase\n",
    "imgPhase = cv2.normalize(imgPhase, None, -1, 1.0, cv2.NORM_MINMAX)\n",
    "obj = imgAmp * np.exp(1j * 0.5 * pi * imgPhase)\n",
    "\n",
    "# Generate CTF\n",
    "dkxy = 2*pi/psize/(imSize-1)\n",
    "cutoffFrequency = (NA * k0 / dkxy)\n",
    "center = [imCenter, imCenter]\n",
    "kYY, kXX = np.ogrid[:imSize, :imSize]\n",
    "CTF = np.sqrt((kXX - center[0]) ** 2 + (kYY - center[1]) ** 2) <= cutoffFrequency\n",
    "CTF_b = CTF.astype(float)\n",
    "\n",
    "# Show input image and CTF\n",
    "plt.figure()\n",
    "plt.subplot(1, 3, 1),plt.imshow(imgAmp, cmap='gray'),plt.title('Amplitude')\n",
    "plt.subplot(1, 3, 2),plt.imshow(imgPhase, cmap='gray'),plt.title('Phase')\n",
    "plt.subplot(1, 3, 3),plt.imshow(CTF, cmap='gray'),plt.title('CTF')\n",
    "plt.show()\n",
    "\n",
    "CTF = Phi\n",
    "\n",
    "print(np.amin(CTF))\n",
    "print(np.amax(CTF))\n",
    "\n",
    "CTF = CTF/np.amax(CTF)\n",
    "\n",
    "for i in range(imSize):\n",
    "  for j in range(imSize):\n",
    "      CTF[i,j] = CTF[i,j] +1\n",
    "      CTF[i,j] = CTF[i,j] /2\n",
    "        \n",
    "\n",
    "CTF = CTF*CTF_b\n",
    "plt.subplot(1, 3, 3),plt.imshow(CTF, cmap='gray'),plt.title('CTF'),plt.colorbar()\n",
    "plt.show()"
   ]
  },
  {
   "cell_type": "code",
   "execution_count": null,
   "metadata": {
    "id": "o2qtpZtKSTrT"
   },
   "outputs": [],
   "source": [
    "kxky = spiral_kxky('/content/drive/My Drive/Stage/Code/FPM_Simulation_exitWaveNet/spiral_4.txt', arraysize ** 2) # load kx, ky here\n",
    "print('kxky shape:',kxky.shape)\n",
    "\n",
    "px = np.ndarray((arraysize ** 2))\n",
    "py = np.ndarray((arraysize ** 2))\n",
    "ledSeq = [0,18,16,17,15,14,13,12,11,10,9,8,7,6,5,4,3,2,1,24,23,22,21,20,19]\n",
    "\n",
    "H = 21\n",
    "n = nglass = 1.52\n",
    "h = 1\n",
    "sita = 0\n",
    "xint = 0\n",
    "yint = 0 \n",
    "total = arraysize**2\n",
    "\n",
    "xi = 0\n",
    "yi = 0\n",
    "\n",
    "count = 0 \n",
    "for i in ledSeq:\n",
    "  x0 = kxky[i,0]\n",
    "  y0 = kxky[i,1]\n",
    "\n",
    "\n",
    "  l=np.sqrt(x0**2+y0**2)          # distance of LED from origin\n",
    "  thetal=np.arctan2(y0,x0)        # angle of LED in x-y plane\n",
    "\n",
    "  xoff=0                          #; % initial guess where beam enters bottom of slide\n",
    "  \n",
    "  thetag=-1*np.arcsin((l/np.sqrt(l**2+H**2))/n)     # get angle of beam in glass from Snell's law\n",
    "  xint=h*np.tan(thetag)                            #% find where the beam exits the top of the slide\n",
    "  xoff=xoff-xint                                # % modify guess where beam enters bottom of slide by this amount\n",
    "\n",
    "\n",
    "  # % repeat the above procedure until the beam exits the top of the slide\n",
    "  # % within 1 micron of center\n",
    "  while abs(xint) > 0.001:\n",
    "      thetag=-np.arcsin((l-xoff)/np.sqrt(((l-xoff)**2)+H**2)/n)\n",
    "      xint=xoff+h*np.tan(thetag)\n",
    "      xoff=xoff-xint\n",
    "\n",
    "  # % angle under the glass and angle over the cover slip\n",
    "  # % FPM treats this as the angle in the sample so pretends the sample has\n",
    "  # % refractive index 1.0\n",
    "  theta=np.arcsin((l-xoff)/np.sqrt((l-xoff)**2+H**2))\n",
    "    \n",
    "\n",
    "  NAt=abs(np.sin(theta))\n",
    "  kx = -NAt * np.cos(thetal)\n",
    "  ky = -NAt * np.sin(thetal)\n",
    "\n",
    "\n",
    "  px[count] = kx\n",
    "  py[count] = ky\n",
    "  print(px[i],py[i])\n",
    "  count =  count +1\n"
   ]
  },
  {
   "cell_type": "code",
   "execution_count": null,
   "metadata": {
    "id": "rOJGJNqE4Wqz"
   },
   "outputs": [],
   "source": [
    "# Generate low res images\n",
    "imgs_train_input1 = np.ndarray((arraysize ** 2, imSize, imSize, 2)) # input real(PSF), -imag(PSF)\n",
    "imgs_train_input2 = np.ndarray((arraysize ** 2, imSize, imSize, 2)) # input imag(PSF), real(PSF)\n",
    "PSF_tot = np.ndarray((arraysize ** 2, imSize, imSize, 2)) # input imag(PSF), real(PSF)\n",
    "kxky = spiral_kxky('/content/drive/My Drive/Stage/Code/FPM_Simulation_exitWaveNet/spiral_kxky.txt', arraysize ** 2)   # load kx, ky here\n",
    "print('kxky shape:',kxky.shape)\n",
    "for i in range(arraysize ** 2):\n",
    "    if(Format == \"Spiral\"):\n",
    "        kx = py[i]\n",
    "        ky = px[i]*-1\n",
    "    elif(Format == \"Square\"):\n",
    "        kx = kxky[i,0] * NAstep\n",
    "        ky = kxky[i,1] * NAstep\n",
    "    kxIllu = int(kx * k0 / dkxy)\n",
    "    kyIllu = int(ky * k0 / dkxy)\n",
    "    ctfIllu = np.roll(CTF, [kxIllu, kyIllu], axis=(0, 1))    \n",
    "    psfIllu = np.fft.fftshift(np.fft.ifft2(np.fft.ifftshift(ctfIllu)))\n",
    "    psfIlluReal = np.real(psfIllu)\n",
    "    psfIlluImag = np.imag(psfIllu)\n",
    "    PSF_tot[i, :, :, 0] =  ctfIllu\n",
    "    imgs_train_input1[i, :, :, 0] = 1 * psfIlluReal\n",
    "    imgs_train_input1[i, :, :, 1] = -1 * psfIlluImag    \n",
    "    imgs_train_input2[i, :, :, 0] = 1 * psfIlluImag\n",
    "    imgs_train_input2[i, :, :, 1] = 1 * psfIlluReal\n",
    "\n",
    "# show result \n",
    "print('Input real(PSF)')\n",
    "print(np.amin(imgs_train_input1[:, :, :, 0]))\n",
    "print(np.amax(imgs_train_input1[:, :, :, 0]))\n",
    "print('Input imag(PSF)')\n",
    "print(np.amin(imgs_train_input2[0, :, :, 0]))\n",
    "print(np.amax(imgs_train_input2[0, :, :, 0]))\n",
    "for i in range(0,8):   \n",
    "  plt.figure(figsize=(10,10))\n",
    "  plt.subplot(1, 2, 1),plt.imshow(PSF_tot[i, :, :, 0], cmap='gray'),plt.title('CTF '+ str(i+1))\n",
    "  plt.show()"
   ]
  },
  {
   "cell_type": "code",
   "execution_count": null,
   "metadata": {
    "id": "YJ5m0ogs4Wq2"
   },
   "outputs": [],
   "source": [
    "# input layer\n",
    "input_1 = Input((imSize, imSize, 2), name='input_1')  # channel 1: Pr, channel 2: -Pi\n",
    "input_2 = Input((imSize, imSize, 2), name='input_2')  # channel 1: Pi, channel 2: Pr\n",
    "# define O\n",
    "conv_O = Conv2D(1, imSize, activation=activation_square, padding='same', strides=index_downSample, kernel_initializer='one', bias_initializer='zero', use_bias=False, name='conv_O')\n",
    "# generate low res images\n",
    "conv1_1 = conv_O(input_1)\n",
    "conv1_2 = conv_O(input_2)\n",
    "addLayer = Add()([conv1_1, conv1_2])\n",
    "\n",
    "model = Model(inputs=[input_1, input_2], outputs=addLayer)\n",
    "model.summary()"
   ]
  },
  {
   "cell_type": "code",
   "execution_count": null,
   "metadata": {
    "id": "XPF1_MG04Wq6"
   },
   "outputs": [],
   "source": [
    "# set high resolution image as the conv2D layer's weight\n",
    "weight_o = np.ndarray((1, imSize, imSize, 2, 1))\n",
    "weight_o[0, :, :, 0, 0] = np.flip(np.flip(np.real(obj), 1), 0)\n",
    "weight_o[0, :, :, 1, 0] = np.flip(np.flip(np.imag(obj), 1), 0)\n",
    "model.get_layer('conv_O').set_weights(weight_o)\n",
    "\n",
    "# predict to get low resolution image sequences\n",
    "model.compile(loss='mean_absolute_error', optimizer=Adam(lr = 0.0, decay = 0.0))\n",
    "imgs_test_predict = model.predict([imgs_train_input1, imgs_train_input2], batch_size=1, verbose=1)\n",
    "\n",
    "#for i in range(0,225):\n",
    "plt.figure() \n",
    "plt.imshow(imgs_test_predict[2, :, :, 0],cmap='gray'),plt.title('measurement')\n",
    "plt.show()\n",
    "\n"
   ]
  },
  {
   "cell_type": "code",
   "execution_count": null,
   "metadata": {
    "id": "iczEkL5R-GOl"
   },
   "outputs": [],
   "source": [
    "plt.figure() \n",
    "plt.imshow(np.flip(np.flip(np.sqrt(imgs_test_predict[0, :, :, 0]),0),1),cmap='gray'),plt.title('measurement')\n",
    "plt.show()"
   ]
  },
  {
   "cell_type": "markdown",
   "metadata": {
    "id": "ud02kNf-nDvQ"
   },
   "source": []
  },
  {
   "cell_type": "code",
   "execution_count": null,
   "metadata": {
    "id": "GuBiakYAQCqD"
   },
   "outputs": [],
   "source": [
    "import scipy.io\n",
    "path_to_save = \"/content/drive/My Drive/Stage/bas_reso_z4.mat\"\n",
    "scipy.io.savemat(\"path_to_save\", {\"imgs\": imgs_test_predict})"
   ]
  },
  {
   "cell_type": "code",
   "execution_count": null,
   "metadata": {
    "id": "MjQkJUr-4Wq9"
   },
   "outputs": [],
   "source": [
    "from skimage.transform import rescale, resize, downscale_local_mean\n",
    "\n",
    "# set low res image as the initial weight\n",
    "weight_o[0, :, :, 0, 0] = np.flip(np.flip(np.sqrt(rescale(imgs_test_predict[0, :, :, 0], 4,anti_aliasing=False)),0),1)\n",
    "weight_o[0, :, :, 1, 0] = np.flip(np.flip(np.sqrt(rescale(imgs_test_predict[0, :, :, 0], 4,anti_aliasing=False)),0),1)\n",
    "model.get_layer('conv_O').set_weights(weight_o)\n",
    "\n",
    "# train net\n",
    "adam = Adam(lr = 1, amsgrad=True)\n",
    "model.compile(loss='mean_absolute_error', optimizer=adam)\n",
    "history = model.fit([imgs_train_input1, imgs_train_input2], imgs_test_predict, batch_size=1, epochs=10, verbose=1, shuffle=False)\n",
    "imRecover = show_result(model, 1)"
   ]
  }
 ],
 "metadata": {
  "accelerator": "GPU",
  "colab": {
   "collapsed_sections": [],
   "name": "Save_Images_FPM_Simulation_intensityNet.ipynb",
   "provenance": [
    {
     "file_id": "1QHvRQlsKH02ovxSYsTHiw0lzt1YmYICc",
     "timestamp": 1591791656897
    }
   ]
  },
  "kernelspec": {
   "display_name": "Python 3",
   "language": "python",
   "name": "python3"
  },
  "language_info": {
   "codemirror_mode": {
    "name": "ipython",
    "version": 3
   },
   "file_extension": ".py",
   "mimetype": "text/x-python",
   "name": "python",
   "nbconvert_exporter": "python",
   "pygments_lexer": "ipython3",
   "version": "3.8.3"
  }
 },
 "nbformat": 4,
 "nbformat_minor": 1
}
